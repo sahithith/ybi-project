{
  "nbformat": 4,
  "nbformat_minor": 0,
  "metadata": {
    "colab": {
      "provenance": []
    },
    "kernelspec": {
      "name": "python3",
      "display_name": "Python 3"
    },
    "language_info": {
      "name": "python"
    }
  },
  "cells": [
    {
      "cell_type": "markdown",
      "source": [
        "Import Library"
      ],
      "metadata": {
        "id": "CjajqZ0iyRxI"
      }
    },
    {
      "cell_type": "code",
      "execution_count": null,
      "metadata": {
        "id": "rWXp0wAJyLGa"
      },
      "outputs": [],
      "source": [
        "\n",
        "import numpy as np\n",
        "import pandas as pd"
      ]
    },
    {
      "cell_type": "markdown",
      "source": [
        "Import Data"
      ],
      "metadata": {
        "id": "qZ9PmnJoycxl"
      }
    },
    {
      "cell_type": "code",
      "source": [
        "\n",
        "#taking the dataset (csv file)\n",
        "df=pd.read_csv(r'https://github.com/YBI-Foundation/Dataset/raw/main/Servo%20Mechanism.csv')"
      ],
      "metadata": {
        "id": "FtR68yE9yfjJ"
      },
      "execution_count": null,
      "outputs": []
    },
    {
      "cell_type": "code",
      "source": [
        "df.head()"
      ],
      "metadata": {
        "id": "gdSxV5DCypNZ"
      },
      "execution_count": null,
      "outputs": []
    },
    {
      "cell_type": "code",
      "source": [
        "\n",
        "#Information about the Data Frame which we selected\n",
        "df.info()"
      ],
      "metadata": {
        "id": "Os-H_qytytfx"
      },
      "execution_count": null,
      "outputs": []
    },
    {
      "cell_type": "code",
      "source": [
        "\n",
        "df.describe()\n"
      ],
      "metadata": {
        "id": "fljXhQQUyxe3"
      },
      "execution_count": null,
      "outputs": []
    },
    {
      "cell_type": "code",
      "source": [
        "df.columns"
      ],
      "metadata": {
        "id": "UV1peh7gy1W7"
      },
      "execution_count": null,
      "outputs": []
    },
    {
      "cell_type": "code",
      "source": [
        "#shape of the Database\n",
        "df.shape"
      ],
      "metadata": {
        "id": "z7HEPGVJzR3X"
      },
      "execution_count": null,
      "outputs": []
    },
    {
      "cell_type": "code",
      "source": [
        "#size of the Data Frame\n",
        "df.size"
      ],
      "metadata": {
        "id": "_tdj19IlzVKc"
      },
      "execution_count": null,
      "outputs": []
    },
    {
      "cell_type": "code",
      "source": [
        "#Encoding of Categorical Features\n",
        "df.replace({'Motor':{'A':0,'B':1,'C':2,'D':3,'E':4}},inplace=True)\n",
        "df.replace({'Screw':{'A':0,'B':1,'C':2,'D':3,'E':4}},inplace=True)"
      ],
      "metadata": {
        "id": "Pz2zTMb_zZIT"
      },
      "execution_count": null,
      "outputs": []
    },
    {
      "cell_type": "markdown",
      "source": [
        "Define Target Variable (y) and Feature Variables (X)"
      ],
      "metadata": {
        "id": "SXiwxAkP1x16"
      }
    },
    {
      "cell_type": "code",
      "source": [
        "y=df['Class']\n",
        "X=df[['Motor','Screw','Pgain','Vgain']]"
      ],
      "metadata": {
        "id": "OHyOqN-kzgaY"
      },
      "execution_count": null,
      "outputs": []
    },
    {
      "cell_type": "code",
      "source": [
        "y"
      ],
      "metadata": {
        "id": "G4_dgvrxzmt7"
      },
      "execution_count": null,
      "outputs": []
    },
    {
      "cell_type": "code",
      "source": [
        "X"
      ],
      "metadata": {
        "id": "hi7WCirhztDO"
      },
      "execution_count": null,
      "outputs": []
    },
    {
      "cell_type": "code",
      "source": [
        "X=df.drop('Class',axis=1)"
      ],
      "metadata": {
        "id": "saMIN-UmzzDs"
      },
      "execution_count": null,
      "outputs": []
    },
    {
      "cell_type": "markdown",
      "source": [
        "Train Test Split"
      ],
      "metadata": {
        "id": "sSsKX9ZLz4H5"
      }
    },
    {
      "cell_type": "code",
      "source": [
        "from sklearn.model_selection import train_test_split\n",
        "X_train, X_test, y_train, y_test = train_test_split(X,y,test_size=0.3, random_state=2529)\n",
        "X_train.shape, X_test.shape, y_train.shape, y_test.shape"
      ],
      "metadata": {
        "id": "zVUEuOsOz5v7"
      },
      "execution_count": null,
      "outputs": []
    },
    {
      "cell_type": "markdown",
      "source": [
        "Model Train"
      ],
      "metadata": {
        "id": "wIu7zjdB0DPh"
      }
    },
    {
      "cell_type": "code",
      "source": [
        "from sklearn.linear_model import LinearRegression\n",
        "lr=LinearRegression()\n",
        "lr.fit(X_train,y_train)"
      ],
      "metadata": {
        "id": "kuX8ErX-zyyh"
      },
      "execution_count": null,
      "outputs": []
    },
    {
      "cell_type": "markdown",
      "source": [
        "Model Prediction"
      ],
      "metadata": {
        "id": "ySGiJ5aG0aqr"
      }
    },
    {
      "cell_type": "code",
      "source": [
        "y_pred=lr.predict(X_test)\n",
        "y_pred"
      ],
      "metadata": {
        "id": "j1ESl_cO0bvP"
      },
      "execution_count": null,
      "outputs": []
    },
    {
      "cell_type": "markdown",
      "source": [
        "Model Evaluation"
      ],
      "metadata": {
        "id": "NtEmsawn0ilk"
      }
    },
    {
      "cell_type": "code",
      "source": [
        "from sklearn.metrics import mean_squared_error, mean_absolute_error, r2_score"
      ],
      "metadata": {
        "id": "SrcI047E0jg9"
      },
      "execution_count": null,
      "outputs": []
    },
    {
      "cell_type": "code",
      "source": [
        "\n",
        "mean_squared_error(y_test,y_pred)"
      ],
      "metadata": {
        "id": "GwWJ8VeT0tDX"
      },
      "execution_count": null,
      "outputs": []
    },
    {
      "cell_type": "code",
      "source": [
        "\n",
        "r2_score(y_test,y_pred)"
      ],
      "metadata": {
        "id": "e49U7Rw500Mi"
      },
      "execution_count": null,
      "outputs": []
    },
    {
      "cell_type": "markdown",
      "source": [
        "Visualization"
      ],
      "metadata": {
        "id": "TZrGFJa_04N_"
      }
    },
    {
      "cell_type": "code",
      "source": [
        "import matplotlib.pyplot as plt\n",
        "plt.scatter(y_test,y_pred)\n",
        "plt.xlabel(\"Actual\")\n",
        "plt.ylabel(\"Predicted\")\n",
        "plt.title(\"Actual vs Predicted\")\n",
        "plt.show()"
      ],
      "metadata": {
        "id": "-yjX9bOJ05iP"
      },
      "execution_count": null,
      "outputs": []
    },
    {
      "cell_type": "code",
      "source": [
        "X_new = df.sample(1)\n",
        "X_new"
      ],
      "metadata": {
        "id": "vcFJvHZ21B0f"
      },
      "execution_count": null,
      "outputs": []
    },
    {
      "cell_type": "code",
      "source": [
        "X_new.shape"
      ],
      "metadata": {
        "id": "t2WHzsxi1EYP"
      },
      "execution_count": null,
      "outputs": []
    },
    {
      "cell_type": "code",
      "source": [
        "X_new = X_new.drop('Class',axis=1)"
      ],
      "metadata": {
        "id": "haEjmytn1GLV"
      },
      "execution_count": null,
      "outputs": []
    },
    {
      "cell_type": "code",
      "source": [
        "y_pred_new=lr.predict(X_new)"
      ],
      "metadata": {
        "id": "o6to-V3G1Ibw"
      },
      "execution_count": null,
      "outputs": []
    },
    {
      "cell_type": "code",
      "source": [
        "y_pred_new"
      ],
      "metadata": {
        "id": "otrFFeK81KSe"
      },
      "execution_count": null,
      "outputs": []
    }
  ]
}